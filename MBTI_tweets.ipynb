{
  "nbformat": 4,
  "nbformat_minor": 0,
  "metadata": {
    "colab": {
      "name": "MBTI_tweets.ipynb",
      "provenance": [],
      "collapsed_sections": [
        "ab1hzHnsZqdy",
        "lC1fC6W5ZuAB"
      ]
    },
    "kernelspec": {
      "name": "python3",
      "display_name": "Python 3"
    },
    "language_info": {
      "name": "python"
    }
  },
  "cells": [
    {
      "cell_type": "markdown",
      "metadata": {
        "id": "SWRBi5O1Gc4Q"
      },
      "source": [
        "# **Predicting Myers-Briggs Personality Type From Tweets**"
      ]
    },
    {
      "cell_type": "markdown",
      "metadata": {
        "id": "Nc-JyEHyHPOn"
      },
      "source": [
        "**Table of contents**\n",
        "\n",
        "\n",
        "1.   Introduction\n",
        "2.   Dataset\n",
        "3. Preprocessing the data\n",
        "3. Neural Network Approach\n",
        "4. Machine Learning Approach\n",
        "\n"
      ]
    },
    {
      "cell_type": "markdown",
      "metadata": {
        "id": "ahpwVu1AIChb"
      },
      "source": [
        "## Introduction"
      ]
    },
    {
      "cell_type": "markdown",
      "metadata": {
        "id": "4PIuNdOIIGik"
      },
      "source": [
        "The Myers–Briggs Type Indicator (MBTI) is a psychological test that attempts to describe the personality of a person based on their answers given on a series of questions. \n",
        "\n",
        "A personality type is made up of 4 categories:\n",
        "\n",
        "\n",
        "*   introversion (I) or extraversion (E)\n",
        "*   sensing (S) or intuition (N)\n",
        "*  thinking (T) or feeling (F)\n",
        "* judging (J) or perceiving (P)\n",
        "\n",
        "Based on these categories there are 16 personality types such as \"INTP\", \"ESFJ\", \"ISTJ\", etc.\n",
        "\n"
      ]
    },
    {
      "cell_type": "markdown",
      "metadata": {
        "id": "1ILxLk3iL_SD"
      },
      "source": [
        "**Possible applications of personality type predictions**\n",
        "\n",
        "\n",
        "\n",
        "*   More personal user experience (product or content recommendation)\n",
        "*   More relevant advertisments\n",
        "\n"
      ]
    },
    {
      "cell_type": "markdown",
      "metadata": {
        "id": "lF6AvopENicy"
      },
      "source": [
        "## Dataset"
      ]
    },
    {
      "cell_type": "markdown",
      "metadata": {
        "id": "1eCkx9PUNsHa"
      },
      "source": [
        "We used a [kaggle dataset](https://www.kaggle.com/datasnaek/mbti-type) to attempt to predict personality types based on tweets. The data was collected from [Personality Cafe](https://www.personalitycafe.com). \n",
        "\n",
        "It contains 8675 samples. Each sample has two columns, personality type and posts. \n",
        "\n",
        "The posts are composed of 50 tweets per user. "
      ]
    },
    {
      "cell_type": "code",
      "metadata": {
        "id": "rJmake3dMCyD",
        "colab": {
          "base_uri": "https://localhost:8080/"
        },
        "outputId": "e79edac7-5279-45e2-deb8-10f8a9fc0938"
      },
      "source": [
        "import pandas as pd\n",
        "import re\n",
        "import nltk\n",
        "from nltk import word_tokenize\n",
        "from nltk.corpus import words\n",
        "from nltk.corpus import stopwords\n",
        "from nltk.tokenize import sent_tokenize, word_tokenize\n",
        "from nltk.stem import PorterStemmer, WordNetLemmatizer\n",
        "from sklearn.feature_extraction.text import CountVectorizer, TfidfVectorizer\n",
        "from sklearn.model_selection import RandomizedSearchCV\n",
        "from sklearn.ensemble import RandomForestClassifier\n",
        "import string\n",
        "from string import digits\n",
        "from collections import defaultdict\n",
        "import numpy as np\n",
        "from sklearn.model_selection import train_test_split\n",
        "import tensorflow as tf\n",
        "from xgboost import XGBClassifier, plot_importance\n",
        "from sklearn.metrics import accuracy_score, f1_score, make_scorer\n",
        "from sklearn.utils import resample\n",
        "from scipy.sparse import vstack\n",
        "\n",
        "from keras.preprocessing.text import Tokenizer\n",
        "from sklearn.preprocessing import LabelEncoder\n",
        "from keras.utils import np_utils\n",
        "\n",
        "import tensorflow as tf\n",
        "from tensorflow.keras import layers, models\n",
        "\n",
        "import matplotlib.pyplot as plt\n",
        "import seaborn as sns\n",
        "!pip install python-twitter\n",
        "import twitter\n",
        "import pickle"
      ],
      "execution_count": null,
      "outputs": [
        {
          "output_type": "stream",
          "text": [
            "Requirement already satisfied: python-twitter in /usr/local/lib/python3.7/dist-packages (3.5)\n",
            "Requirement already satisfied: requests in /usr/local/lib/python3.7/dist-packages (from python-twitter) (2.23.0)\n",
            "Requirement already satisfied: future in /usr/local/lib/python3.7/dist-packages (from python-twitter) (0.16.0)\n",
            "Requirement already satisfied: requests-oauthlib in /usr/local/lib/python3.7/dist-packages (from python-twitter) (1.3.0)\n",
            "Requirement already satisfied: chardet<4,>=3.0.2 in /usr/local/lib/python3.7/dist-packages (from requests->python-twitter) (3.0.4)\n",
            "Requirement already satisfied: certifi>=2017.4.17 in /usr/local/lib/python3.7/dist-packages (from requests->python-twitter) (2020.12.5)\n",
            "Requirement already satisfied: idna<3,>=2.5 in /usr/local/lib/python3.7/dist-packages (from requests->python-twitter) (2.10)\n",
            "Requirement already satisfied: urllib3!=1.25.0,!=1.25.1,<1.26,>=1.21.1 in /usr/local/lib/python3.7/dist-packages (from requests->python-twitter) (1.24.3)\n",
            "Requirement already satisfied: oauthlib>=3.0.0 in /usr/local/lib/python3.7/dist-packages (from requests-oauthlib->python-twitter) (3.1.0)\n"
          ],
          "name": "stdout"
        }
      ]
    },
    {
      "cell_type": "code",
      "metadata": {
        "colab": {
          "base_uri": "https://localhost:8080/"
        },
        "id": "4DvODn5Up1EB",
        "outputId": "9e0ab3a7-ccf9-43dc-9453-90b608781640"
      },
      "source": [
        "nltk.download('stopwords')\n",
        "nltk.download('wordnet')"
      ],
      "execution_count": null,
      "outputs": [
        {
          "output_type": "stream",
          "text": [
            "[nltk_data] Downloading package stopwords to /root/nltk_data...\n",
            "[nltk_data]   Package stopwords is already up-to-date!\n"
          ],
          "name": "stdout"
        },
        {
          "output_type": "execute_result",
          "data": {
            "text/plain": [
              "True"
            ]
          },
          "metadata": {
            "tags": []
          },
          "execution_count": 4
        }
      ]
    },
    {
      "cell_type": "code",
      "metadata": {
        "colab": {
          "base_uri": "https://localhost:8080/",
          "height": 195
        },
        "id": "5Q8IR4Twp4EJ",
        "outputId": "cc6cb36d-28ed-4c19-efcf-04dd612188eb"
      },
      "source": [
        "dat = pd.read_csv(\"drive/MyDrive/MBTI/mbti_1.csv\")\n",
        "dat.head()"
      ],
      "execution_count": null,
      "outputs": [
        {
          "output_type": "execute_result",
          "data": {
            "text/html": [
              "<div>\n",
              "<style scoped>\n",
              "    .dataframe tbody tr th:only-of-type {\n",
              "        vertical-align: middle;\n",
              "    }\n",
              "\n",
              "    .dataframe tbody tr th {\n",
              "        vertical-align: top;\n",
              "    }\n",
              "\n",
              "    .dataframe thead th {\n",
              "        text-align: right;\n",
              "    }\n",
              "</style>\n",
              "<table border=\"1\" class=\"dataframe\">\n",
              "  <thead>\n",
              "    <tr style=\"text-align: right;\">\n",
              "      <th></th>\n",
              "      <th>type</th>\n",
              "      <th>posts</th>\n",
              "    </tr>\n",
              "  </thead>\n",
              "  <tbody>\n",
              "    <tr>\n",
              "      <th>0</th>\n",
              "      <td>INFJ</td>\n",
              "      <td>'http://www.youtube.com/watch?v=qsXHcwe3krw|||...</td>\n",
              "    </tr>\n",
              "    <tr>\n",
              "      <th>1</th>\n",
              "      <td>ENTP</td>\n",
              "      <td>'I'm finding the lack of me in these posts ver...</td>\n",
              "    </tr>\n",
              "    <tr>\n",
              "      <th>2</th>\n",
              "      <td>INTP</td>\n",
              "      <td>'Good one  _____   https://www.youtube.com/wat...</td>\n",
              "    </tr>\n",
              "    <tr>\n",
              "      <th>3</th>\n",
              "      <td>INTJ</td>\n",
              "      <td>'Dear INTP,   I enjoyed our conversation the o...</td>\n",
              "    </tr>\n",
              "    <tr>\n",
              "      <th>4</th>\n",
              "      <td>ENTJ</td>\n",
              "      <td>'You're fired.|||That's another silly misconce...</td>\n",
              "    </tr>\n",
              "  </tbody>\n",
              "</table>\n",
              "</div>"
            ],
            "text/plain": [
              "   type                                              posts\n",
              "0  INFJ  'http://www.youtube.com/watch?v=qsXHcwe3krw|||...\n",
              "1  ENTP  'I'm finding the lack of me in these posts ver...\n",
              "2  INTP  'Good one  _____   https://www.youtube.com/wat...\n",
              "3  INTJ  'Dear INTP,   I enjoyed our conversation the o...\n",
              "4  ENTJ  'You're fired.|||That's another silly misconce..."
            ]
          },
          "metadata": {
            "tags": []
          },
          "execution_count": 5
        }
      ]
    },
    {
      "cell_type": "code",
      "metadata": {
        "colab": {
          "base_uri": "https://localhost:8080/"
        },
        "id": "XyBsNdkr8sc_",
        "outputId": "a089951a-891f-4f1d-aa9c-5b30ba65e6fc"
      },
      "source": [
        "types = []\n",
        "for w in dat[\"type\"]:\n",
        "  if w not in types:\n",
        "    types.append(w)\n",
        "    types.append(str(w).lower())\n",
        "\n",
        "types[0:5]"
      ],
      "execution_count": null,
      "outputs": [
        {
          "output_type": "execute_result",
          "data": {
            "text/plain": [
              "['INFJ', 'infj', 'ENTP', 'entp', 'INTP']"
            ]
          },
          "metadata": {
            "tags": []
          },
          "execution_count": 6
        }
      ]
    },
    {
      "cell_type": "code",
      "metadata": {
        "id": "YaiNb0mesEeH"
      },
      "source": [
        "\n",
        "def typeCount(type_list):\n",
        "  typecount = dict()\n",
        "\n",
        "  for t in type_list:\n",
        "    if t not in typecount:\n",
        "      typecount[t] = 1\n",
        "    else:\n",
        "      typecount[t] += 1\n",
        "\n",
        "  return typecount\n",
        "\n",
        "tc = typeCount(dat[\"type\"])"
      ],
      "execution_count": null,
      "outputs": []
    },
    {
      "cell_type": "code",
      "metadata": {
        "colab": {
          "base_uri": "https://localhost:8080/",
          "height": 398
        },
        "id": "aiAJL_5nQUme",
        "outputId": "bb6fde57-8479-48f1-94cf-968ec20bfb9d"
      },
      "source": [
        "type_count_df = pd.DataFrame({\"type\": list(tc.keys()), \"count\": list(tc.values())})\n",
        "sns.catplot(x=\"count\", y=\"type\", kind=\"bar\", data=type_count_df.sort_values(['count'], ascending=False), color='g')\n",
        "plt.title(\"Personality type distribution\")\n",
        "plt.show()"
      ],
      "execution_count": null,
      "outputs": [
        {
          "output_type": "display_data",
          "data": {
            "image/png": "[encoded data removed]",
            "text/plain": [
              "<Figure size 360x360 with 1 Axes>"
            ]
          },
          "metadata": {
            "tags": []
          }
        }
      ]
    },
    {
      "cell_type": "code",
      "metadata": {
        "id": "n5y58cU1qW5A"
      },
      "source": [
        "# convert labels into binary \n",
        "labels = np.zeros((dat.shape[0], 4), int)\n",
        "\n",
        "for i, tp in enumerate(dat[\"type\"]):\n",
        "  if tp[0] == \"I\":\n",
        "    labels[i, 0] = 1\n",
        "  if tp[1] == \"N\":\n",
        "    labels[i, 1] = 1\n",
        "  if tp[2] == \"F\":\n",
        "    labels[i, 2] = 1\n",
        "  if tp[3] == \"P\":\n",
        "    labels[i, 3] = 1"
      ],
      "execution_count": null,
      "outputs": []
    },
    {
      "cell_type": "code",
      "metadata": {
        "colab": {
          "base_uri": "https://localhost:8080/",
          "height": 533
        },
        "id": "se5d9VUCVUzn",
        "outputId": "a8930af7-4267-4de2-fb8c-9f57a27c615c"
      },
      "source": [
        "zeros = [labels[labels[:, i] == 0].shape[0] for i in range(4)]\n",
        "ones = [labels[labels[:, i] == 1].shape[0] for i in range(4)]\n",
        "\n",
        "fig, ax = plt.subplots()\n",
        "plt.title(\"Distribution of the 4 classes\")\n",
        "ax.bar([\"E v I\", \"S v N\", \"T v F\", \"J v P\"], zeros)\n",
        "ax.bar([\"E v I\", \"S v N\", \"T v F\", \"J v P\"], ones, bottom=zeros)"
      ],
      "execution_count": null,
      "outputs": [
        {
          "output_type": "execute_result",
          "data": {
            "text/plain": [
              "<BarContainer object of 4 artists>"
            ]
          },
          "metadata": {
            "tags": []
          },
          "execution_count": 48
        },
        {
          "output_type": "display_data",
          "data": {
            "image/png": "[encoded data removed]",
            "text/plain": [
              "<Figure size 842.4x595.44 with 1 Axes>"
            ]
          },
          "metadata": {
            "tags": []
          }
        }
      ]
    },
    {
      "cell_type": "markdown",
      "metadata": {
        "id": "vAcJA3HdYRR2"
      },
      "source": [
        "## Preprocessing the data"
      ]
    },
    {
      "cell_type": "code",
      "metadata": {
        "id": "bQCofhB0YVq9"
      },
      "source": [
        "def cleaner(text):\n",
        "    stops = list(set(stopwords.words('english')))\n",
        "\n",
        "    #Remove @ sign\n",
        "    text = re.sub(\"@[A-Za-z0-9]+\",\"\",text)\n",
        "\n",
        "    # Remove numbers \n",
        "    text = re.sub(\"[0-9]+\", \"\", text)\n",
        "\n",
        "    # Remove links\n",
        "    text = re.sub(\"http[^\\s]+\", \" \", text)\n",
        "    text = \" \".join(text.split())\n",
        "\n",
        "    # Remove hashtag sign but keep the text\n",
        "    text = text.replace(\"#\", \"\").replace(\"_\", \" \").replace(\"|\", \" \")\n",
        "\n",
        "    # removing the extra spaces\n",
        "    text = re.sub(' +', ' ', text) \n",
        "\n",
        "    # Remove all punctuation signs\n",
        "    text = str(text)\n",
        "    for chr in string.punctuation:\n",
        "      text = text.replace(chr, \" \")\n",
        "\n",
        "    # Remove words shorter than 3 characters\n",
        "    text = re.sub(r'\\b\\w{1,2}\\b', '',text)\n",
        "\n",
        "    # convert words to lowercase and filter stopwords\n",
        "    text = [w.lower() for w in nltk.wordpunct_tokenize(text) if w not in stops and w not in types]\n",
        "\n",
        "    return text"
      ],
      "execution_count": null,
      "outputs": []
    },
    {
      "cell_type": "code",
      "metadata": {
        "colab": {
          "base_uri": "https://localhost:8080/"
        },
        "id": "_cgYvH6YZOAJ",
        "outputId": "7e87b529-2c00-489e-878a-65cc157cece0"
      },
      "source": [
        "clean_text = dat[\"posts\"].apply(cleaner)\n",
        "clean_text"
      ],
      "execution_count": null,
      "outputs": [
        {
          "output_type": "execute_result",
          "data": {
            "text/plain": [
              "0       [moments, sportscenter, top, ten, plays, prank...\n",
              "1       [finding, lack, posts, alarming, sex, boring, ...\n",
              "2       [good, one, course, say, know, blessing, curse...\n",
              "3       [dear, enjoyed, conversation, day, esoteric, g...\n",
              "4       [you, fired, that, another, silly, misconcepti...\n",
              "                              ...                        \n",
              "8670    [always, think, cats, doms, reason, websites, ...\n",
              "8671    [thread, already, exists, someplace, else, hec...\n",
              "8672    [many, questions, things, would, take, purple,...\n",
              "8673    [conflicted, right, comes, wanting, children, ...\n",
              "8674    [long, since, personalitycafe, although, seem,...\n",
              "Name: posts, Length: 8675, dtype: object"
            ]
          },
          "metadata": {
            "tags": []
          },
          "execution_count": 50
        }
      ]
    },
    {
      "cell_type": "markdown",
      "metadata": {
        "id": "rlHhEGGtZjma"
      },
      "source": [
        "## Neural Network Approach\n",
        "\n",
        "The following workflow is present in this notebook section:\n",
        "\n",
        "  1. Own text cleaning function: removes the links, personality type abbreviations and some punctutations\n",
        "  2. Text pre-processing with keras Tokenizer(num_words = 1000):\n",
        "\n",
        "    2.1. The whole dataset was used with One-Hot Encoded labels and\n",
        "\n",
        "    2.2. Binary labelling of ‘Introversion (I) / Extroversion (E); Intuition (N) – Sensing (S), Feeling (F) - Thinking (T), Judging (J) – Perceiving (P)’ pairs. \n",
        "    \n",
        "    **For these cases relatively small neural networks were trained**\n",
        "\n",
        "  3. Using the CountVectorizer with **10 000 features based on two types of cleaned text data**.\n",
        "\n",
        "  4. Binary classifiers for I/E, N/S, F/T, J/P pairs. ==> **Final predictions**"
      ]
    },
    {
      "cell_type": "markdown",
      "metadata": {
        "id": "ab1hzHnsZqdy"
      },
      "source": [
        "### Method 1. Text pre-processing with keras Tokenizer(num_words = 1000) and One-Hot Encoded Labels"
      ]
    },
    {
      "cell_type": "code",
      "metadata": {
        "id": "mNRyXSDStpOY"
      },
      "source": [
        "tokenizer = Tokenizer(num_words=1000)\n",
        "tokenizer.fit_on_texts(clean_text)\n",
        "X = tokenizer.texts_to_matrix(clean_text)\n",
        "\n",
        "print(X.shape)"
      ],
      "execution_count": null,
      "outputs": []
    },
    {
      "cell_type": "code",
      "metadata": {
        "id": "_vFvXebIwFNF"
      },
      "source": [
        "encoder = LabelEncoder()\n",
        "encoder.fit(dat['type'])\n",
        "encoded_Y = encoder.transform(dat['type'])\n",
        "# convert integers to dummy variables (i.e. one hot encoded)\n",
        "Y = np_utils.to_categorical(encoded_Y)\n",
        "\n",
        "X_train, X_test, y_train, y_test = train_test_split(X, Y, test_size=0.33, random_state=1000)\n",
        "X_train, y_train\n",
        "print(len(y_train[0]))\n",
        "print(y_train)"
      ],
      "execution_count": null,
      "outputs": []
    },
    {
      "cell_type": "code",
      "metadata": {
        "id": "wH20oyyKwHrX"
      },
      "source": [
        "def defineModel(input_shape, output_length):\n",
        "\n",
        "  model = models.Sequential()\n",
        "  model.add(tf.keras.layers.InputLayer(input_shape))\n",
        "\n",
        "  model.add(layers.Dense(64, activation='relu'))\n",
        "  model.add(layers.Dropout(0.1))\n",
        "\n",
        "  model.add(layers.Dense(32, activation='relu'))\n",
        "  model.add(layers.Dropout(0.1))\n",
        "\n",
        "  model.add(layers.Dense(32, activation='relu'))\n",
        "  model.add(layers.Dropout(0.1))\n",
        "\n",
        "  model.add(layers.Dense(output_length, activation='softmax'))\n",
        "\n",
        "  return model"
      ],
      "execution_count": null,
      "outputs": []
    },
    {
      "cell_type": "code",
      "metadata": {
        "id": "VmYDqC2hwK4G"
      },
      "source": [
        "model = defineModel(X_train.shape[1], 16)\n",
        "model.compile(optimizer='adam',loss='categorical_crossentropy', metrics=['accuracy'])\n",
        "print(model.summary())"
      ],
      "execution_count": null,
      "outputs": []
    },
    {
      "cell_type": "code",
      "metadata": {
        "id": "vB14OyPUwNl2"
      },
      "source": [
        "history = model.fit(X_train, y_train, epochs=20, batch_size=32, validation_split=0.1)"
      ],
      "execution_count": null,
      "outputs": []
    },
    {
      "cell_type": "code",
      "metadata": {
        "id": "6UZlHexMwTt4"
      },
      "source": [
        "_, accuracy = model.evaluate(X_test, y_test, verbose=0)\n",
        "print('Accuracy: %.2f' % (accuracy*100))"
      ],
      "execution_count": null,
      "outputs": []
    },
    {
      "cell_type": "markdown",
      "metadata": {
        "id": "49KESeoU5cPZ"
      },
      "source": [
        "Accuracy: 34.30"
      ]
    },
    {
      "cell_type": "markdown",
      "metadata": {
        "id": "lC1fC6W5ZuAB"
      },
      "source": [
        "### Method 2. Binary labelling of ‘Introversion (I) / Extroversion (E); Intuition (N) – Sensing (S), Feeling (F) - Thinking (T), Judging (J) – Perceiving (P)’ pairs."
      ]
    },
    {
      "cell_type": "code",
      "metadata": {
        "id": "ZXQB_r1rZo3g"
      },
      "source": [
        "labels = np.zeros((dat.shape[0], 4), int)\n",
        "labels\n",
        "\n",
        "for i, tp in enumerate(dat[\"type\"]):\n",
        "  if tp[0] == \"I\":\n",
        "    labels[i, 0] = 1\n",
        "  if tp[1] == \"N\":\n",
        "    labels[i, 1] = 1\n",
        "  if tp[2] == \"F\":\n",
        "    labels[i, 2] = 1\n",
        "  if tp[3] == \"P\":\n",
        "    labels[i, 3] = 1"
      ],
      "execution_count": null,
      "outputs": []
    },
    {
      "cell_type": "code",
      "metadata": {
        "id": "YXjtA6LMwiKj"
      },
      "source": [
        "X_train, X_test, y_train, y_test = train_test_split(X, labels, test_size=0.33)"
      ],
      "execution_count": null,
      "outputs": []
    },
    {
      "cell_type": "code",
      "metadata": {
        "id": "_r4ibY56wlNs"
      },
      "source": [
        "model2 = defineModel(X_train.shape[1], 4)\n",
        "model2.compile(optimizer='adam',loss='categorical_crossentropy', metrics=['accuracy'])\n",
        "print(model2.summary())"
      ],
      "execution_count": null,
      "outputs": []
    },
    {
      "cell_type": "code",
      "metadata": {
        "id": "hjPQsM_-wruv"
      },
      "source": [
        "history2 = model2.fit(X_train, y_train, epochs=20, batch_size=32, validation_split=0.1)\n",
        "_, accuracy = model2.evaluate(X_test, y_test, verbose=0)\n",
        "print('Accuracy: %.2f' % (accuracy*100))"
      ],
      "execution_count": null,
      "outputs": []
    },
    {
      "cell_type": "markdown",
      "metadata": {
        "id": "xEzFdyF85wHx"
      },
      "source": [
        "Accuracy: 20.50"
      ]
    },
    {
      "cell_type": "markdown",
      "metadata": {
        "id": "SAUKMkV2wz-9"
      },
      "source": [
        "### Method 3. CountVectorizer with 10 000 features based on two types of cleaned text data"
      ]
    },
    {
      "cell_type": "markdown",
      "metadata": {
        "id": "5x8iDpf82CiV"
      },
      "source": [
        "#### 3.1. Text cleaning with the function presented above; the labels are One-Hot Encoded"
      ]
    },
    {
      "cell_type": "code",
      "metadata": {
        "id": "DTNZFxHDxAcj"
      },
      "source": [
        "def cleaner2(text):\n",
        "    stops = list(set(stopwords.words('english')))\n",
        "    text = re.sub(\"@[A-Za-z0-9]+\",\"\",text) \n",
        "    text = re.sub(\"http[^\\s]+\", \" \", text)\n",
        "    text = \" \".join(text.split())\n",
        "    text = text.replace(\"#\", \"\").replace(\"_\", \" \").replace(\"|\", \" \")\n",
        "    text = re.sub(' +', ' ', text) # removing the extra speces\n",
        "    text = str(text)\n",
        "    for chr in string.punctuation:\n",
        "      text = text.replace(chr, \" \")\n",
        "    text = re.sub(r'\\b\\w{1}\\b', '',text)\n",
        "\n",
        "    text = [w.lower() for w in nltk.wordpunct_tokenize(text) if w not in stops and w not in types]\n",
        "\n",
        "    return ' '.join(text) "
      ],
      "execution_count": null,
      "outputs": []
    },
    {
      "cell_type": "code",
      "metadata": {
        "id": "hhOJ5hgvxEXK"
      },
      "source": [
        "dat = pd.read_csv(\"drive/MyDrive/MBTI/mbti_1.csv\")\n",
        "\n",
        "types=dat['type'].unique()\n",
        "dat['category']=dat['type'].apply(lambda x: np.where(types==x)[0][0])\n",
        "dat['posts'].apply(cleaner2)\n",
        "dat.groupby('category').count()"
      ],
      "execution_count": null,
      "outputs": []
    },
    {
      "cell_type": "code",
      "metadata": {
        "id": "qPDU3aWzxNi8"
      },
      "source": [
        "xtrain, xtest, ytrain, ytest=train_test_split(dat['posts'],dat['category'],shuffle=True,test_size=0.3, random_state = 4)\n",
        "print(xtrain.shape, ytrain.shape, xtest.shape, ytest.shape)"
      ],
      "execution_count": null,
      "outputs": []
    },
    {
      "cell_type": "code",
      "metadata": {
        "id": "J4QDAyVxxTYf"
      },
      "source": [
        "cv=CountVectorizer(max_features=10000,ngram_range=(1,2))\n",
        "cv.fit(xtrain)\n",
        "xtrain1=cv.transform(xtrain)\n",
        "xtest = cv.transform(xtest)\n",
        "\n",
        "ytrain1=pd.get_dummies(ytrain)\n",
        "ytrain1 = np.asarray(ytrain1)\n",
        "ytrain1"
      ],
      "execution_count": null,
      "outputs": []
    },
    {
      "cell_type": "code",
      "metadata": {
        "id": "q8teASs5xYZ3"
      },
      "source": [
        "model3= models.Sequential()\n",
        "model3.add(layers.Dense(500,input_shape=(10000,),activation='relu'))\n",
        "model3.add(layers.Dropout(0.6))\n",
        "model3.add(layers.Dense(16,activation='softmax'))\n",
        "model3.compile(optimizer='adam',loss='categorical_crossentropy',metrics=['accuracy'])\n",
        "\n",
        "history3 = model3.fit(xtrain1,ytrain1,epochs=20)"
      ],
      "execution_count": null,
      "outputs": []
    },
    {
      "cell_type": "code",
      "metadata": {
        "id": "Ii3NOyM8xeip"
      },
      "source": [
        "ytest = pd.get_dummies(ytest)\n",
        "model3.evaluate(xtest,np.asarray(ytest))"
      ],
      "execution_count": null,
      "outputs": []
    },
    {
      "cell_type": "markdown",
      "metadata": {
        "id": "T6V70TKqAGnn"
      },
      "source": [
        "Accuracy: 0.6285"
      ]
    },
    {
      "cell_type": "markdown",
      "metadata": {
        "id": "exyye5gJxgbO"
      },
      "source": [
        "#### 3.2. Using another text cleaning\n",
        "\n",
        "This text cleaning function removes the links and stopwords. At the same time, it performs stemming on the words."
      ]
    },
    {
      "cell_type": "code",
      "metadata": {
        "id": "Y2jLMU_SxlnJ"
      },
      "source": [
        "p=PorterStemmer()\n",
        "stwrds=stopwords.words(\"english\")\n",
        "def filtr(st):\n",
        "    arr=[re.sub(\"http.*\",\"\",x) for x in st.split() if x not in stwrds]\n",
        "    arr=[p.stem(x) for x in arr]\n",
        "    return ' '.join(arr)"
      ],
      "execution_count": null,
      "outputs": []
    },
    {
      "cell_type": "markdown",
      "metadata": {
        "id": "BmcYPolvzEeP"
      },
      "source": [
        "Here I reload the dataframe to be sure that I use the original raw data."
      ]
    },
    {
      "cell_type": "code",
      "metadata": {
        "id": "eGDSsU7bzH_B"
      },
      "source": [
        "dat2 = pd.read_csv(\"drive/MyDrive/MBTI/mbti_1.csv\")\n",
        "\n",
        "dat2.head()\n",
        "\n",
        "types=dat2['type'].unique()\n",
        "dat2['category']=dat2['type'].apply(lambda x: np.where(types==x)[0][0])\n",
        "dat2['posts'].apply(filtr)\n",
        "dat2.groupby('category').count()"
      ],
      "execution_count": null,
      "outputs": []
    },
    {
      "cell_type": "code",
      "metadata": {
        "id": "LwPuczvgzW7s"
      },
      "source": [
        "xtrain,xtest,ytrain,ytest=train_test_split(dat2['posts'],dat2['category'],shuffle=True,test_size=0.3, random_state = 4)\n",
        "print(xtrain.shape,ytrain.shape,xtest.shape,ytest.shape)"
      ],
      "execution_count": null,
      "outputs": []
    },
    {
      "cell_type": "code",
      "metadata": {
        "id": "fHDdb1oXzalb"
      },
      "source": [
        "cv=CountVectorizer(max_features=10000,ngram_range=(1,2))\n",
        "cv.fit(xtrain)\n",
        "xtrain1=cv.transform(xtrain)\n",
        "xtest = cv.transform(xtest)\n",
        "\n",
        "ytrain1=pd.get_dummies(ytrain)\n",
        "ytrain1 = np.asarray(ytrain1)\n",
        "ytrain1"
      ],
      "execution_count": null,
      "outputs": []
    },
    {
      "cell_type": "code",
      "metadata": {
        "id": "X72cA39-zgAv"
      },
      "source": [
        "model4= models.Sequential()\n",
        "model4.add(layers.Dense(500,input_shape=(10000,),activation='relu'))\n",
        "model4.add(layers.Dropout(0.6))\n",
        "model4.add(layers.Dense(16,activation='softmax'))\n",
        "model4.compile(optimizer='adam',loss='categorical_crossentropy',metrics=['accuracy'])\n",
        "\n",
        "history4 = model4.fit(xtrain1,ytrain1,epochs=20)"
      ],
      "execution_count": null,
      "outputs": []
    },
    {
      "cell_type": "code",
      "metadata": {
        "id": "htL89jE8zoVt"
      },
      "source": [
        "ytest = pd.get_dummies(ytest)\n",
        "model4.evaluate(xtest,np.asarray(ytest))"
      ],
      "execution_count": null,
      "outputs": []
    },
    {
      "cell_type": "markdown",
      "metadata": {
        "id": "mHAf7PZqBLar"
      },
      "source": [
        "Accuracy: 0.6135"
      ]
    },
    {
      "cell_type": "markdown",
      "metadata": {
        "id": "igAXZ7jazrlN"
      },
      "source": [
        "### Method 4. Binary classifiers for I/E, N/S, F/T, J/P pairs. ==> Final predictions\n",
        "\n",
        "In this section, we teach a total of four binary classifiers, one classifier for each personality type pair.\n",
        "\n",
        "For prediction, we place each binarized (rounded to 0 decimal) results one after the other and invert them back to characters.\n",
        "\n",
        "At the very end, we run the classifiers on the test data, respectively, and calculate the final accuracy from it."
      ]
    },
    {
      "cell_type": "code",
      "metadata": {
        "id": "sw2bPoHjzx8J"
      },
      "source": [
        "b_Pers = {'I':0, 'E':1, 'N':0, 'S':1, 'F':0, 'T':1, 'J':0, 'P':1}\n",
        "b_Pers_list = [{0:'I', 1:'E'}, {0:'N', 1:'S'}, {0:'F', 1:'T'}, {0:'J', 1:'P'}]\n",
        "\n",
        "def translate_personality(personality):\n",
        "    # transform mbti to binary vector\n",
        "    \n",
        "    return [b_Pers[l] for l in personality]\n",
        "\n",
        "def translate_back(personality):\n",
        "    # transform binary vector to mbti personality\n",
        "    \n",
        "    s = \"\"\n",
        "    for i, l in enumerate(personality):\n",
        "        s += b_Pers_list[i][l]\n",
        "    return s\n",
        "\n",
        "# Check ...\n",
        "list_personality_bin = np.array([translate_personality(p) for p in dat.type])\n",
        "print(\"Binarize MBTI list: \\n%s\" % list_personality_bin)"
      ],
      "execution_count": null,
      "outputs": []
    },
    {
      "cell_type": "code",
      "metadata": {
        "id": "22eDzRlKz4AQ"
      },
      "source": [
        "# We want to remove these from the psosts\n",
        "unique_type_list = ['INFJ', 'ENTP', 'INTP', 'INTJ', 'ENTJ', 'ENFJ', 'INFP', 'ENFP',\n",
        "       'ISFP', 'ISTP', 'ISFJ', 'ISTJ', 'ESTP', 'ESFP', 'ESTJ', 'ESFJ']\n",
        "  \n",
        "unique_type_list = [x.lower() for x in unique_type_list]\n",
        "\n",
        "\n",
        "# Lemmatize\n",
        "stemmer = PorterStemmer()\n",
        "lemmatiser = WordNetLemmatizer()\n",
        "\n",
        "# Cache the stop words for speed \n",
        "cachedStopWords = stopwords.words(\"english\")\n",
        "\n",
        "def pre_process_data(data, remove_stop_words=True, remove_mbti_profiles=True):\n",
        "\n",
        "    list_personality = []\n",
        "    list_posts = []\n",
        "    len_data = len(data)\n",
        "    i=0\n",
        "    \n",
        "    for row in data.iterrows():\n",
        "        i+=1\n",
        "        if (i % 1000 == 0 or i == 1 or i == len_data):\n",
        "            print(\"%s of %s rows\" % (i, len_data))\n",
        "\n",
        "        ##### Remove and clean comments\n",
        "        posts = row[1].posts\n",
        "        temp = re.sub('http[s]?://(?:[a-zA-Z]|[0-9]|[$-_@.&+]|(?:%[0-9a-fA-F][0-9a-fA-F]))+', ' ', posts)\n",
        "        temp = re.sub(\"[^a-zA-Z]\", \" \", temp)\n",
        "        temp = re.sub(' +', ' ', temp).lower()\n",
        "        if remove_stop_words:\n",
        "            temp = \" \".join([lemmatiser.lemmatize(w) for w in temp.split(' ') if w not in cachedStopWords])\n",
        "        else:\n",
        "            temp = \" \".join([lemmatiser.lemmatize(w) for w in temp.split(' ')])\n",
        "            \n",
        "        if remove_mbti_profiles:\n",
        "            for t in unique_type_list:\n",
        "                temp = temp.replace(t,\"\")\n",
        "\n",
        "        type_labelized = translate_personality(row[1].type)\n",
        "        list_personality.append(type_labelized)\n",
        "        list_posts.append(temp)\n",
        "\n",
        "    list_posts = np.array(list_posts)\n",
        "    list_personality = np.array(list_personality)\n",
        "    return list_posts, list_personality"
      ],
      "execution_count": null,
      "outputs": []
    },
    {
      "cell_type": "code",
      "metadata": {
        "id": "0LTwgeiFz6_d"
      },
      "source": [
        "list_posts, list_personality  = pre_process_data(dat2, remove_stop_words=False)"
      ],
      "execution_count": null,
      "outputs": []
    },
    {
      "cell_type": "code",
      "metadata": {
        "id": "iRtws30-0CpL"
      },
      "source": [
        "def _getModel(n_inputs, n_outputs):\n",
        "  \n",
        "  model = models.Sequential()\n",
        "  model.add(layers.Dense(500, input_shape = (n_inputs,), activation='relu'))\n",
        "  model.add(layers.Dropout(0.6))\n",
        "  model.add(layers.Dense(1, activation='sigmoid'))\n",
        "  \n",
        "  return model\n",
        "\n",
        "def train_MB_Personality(list_posts, list_personality, path = None, epochs = 10, random_state = 3,save_model = True):\n",
        "  \n",
        "  X_train, X_test, y_train, y_test = train_test_split(list_posts,list_personality,shuffle=True,test_size=0.3, random_state = random_state)\n",
        "\n",
        "  cv = CountVectorizer(max_features = 10000, ngram_range = (1,2))\n",
        "  cv.fit(X_train)\n",
        "\n",
        "  X_train_ = cv.transform(X_train)\n",
        "  X_test_ = cv.transform(X_test)\n",
        "\n",
        "  # Introversion (I) / Extroversion (E) \n",
        "  print(\"Training IE model...\")\n",
        "\n",
        "  model_ie = _getModel(X_train_.shape[1], 1)\n",
        "\n",
        "  model_ie.compile(optimizer='adam',loss='binary_crossentropy',metrics=['accuracy'])\n",
        "\n",
        "  model_ie.fit(X_train_, y_train[:, 0], epochs = epochs)\n",
        "  model_ie.evaluate(X_test_,np.asarray(y_test[:, 0]))\n",
        "\n",
        "  if save_model == True: \n",
        "    p = [path, \"I_E_model\"]\n",
        "    p = \"\".join(p)\n",
        "    model_ie.save(p)\n",
        "\n",
        "  # Intuition (N) – Sensing (S)\n",
        "  print(\"Training NS model...\")\n",
        "  \n",
        "  model_ns = _getModel(X_train_.shape[1], 1)\n",
        "  model_ns.compile(optimizer='adam',loss='binary_crossentropy',metrics=['accuracy'])\n",
        "  model_ns.fit(X_train_, y_train[:, 1], epochs = epochs)\n",
        "  model_ns.evaluate(X_test_,np.asarray(y_test[:, 1]))\n",
        "\n",
        "  if save_model == True: \n",
        "    p = [path, \"N_S_model\"]\n",
        "    p = \"\".join(p)\n",
        "    model_ns.save(p)\n",
        "\n",
        "  # Feeling (F) - Thinking (T)\n",
        "  print(\"Training FT model...\")\n",
        "  \n",
        "  model_ft = _getModel(X_train_.shape[1], 1)\n",
        "  model_ft.compile(optimizer='adam',loss='binary_crossentropy',metrics=['accuracy'])\n",
        "  model_ft.fit(X_train_, y_train[:, 2], epochs = epochs)\n",
        "  model_ft.evaluate(X_test_,np.asarray(y_test[:, 2]))\n",
        "  \n",
        "  if save_model == True: \n",
        "    p = [path, \"F_T_model\"]\n",
        "    p = \"\".join(p)\n",
        "    model_ft.save(p)\n",
        "\n",
        "  # Judging (J) – Perceiving (P)\n",
        "  print(\"Training JP model...\")\n",
        "\n",
        "  model_jp = _getModel(X_train_.shape[1], 1)\n",
        "  model_jp.compile(optimizer='adam',loss='binary_crossentropy',metrics=['accuracy'])\n",
        "  model_jp.fit(X_train_, y_train[:, 3], epochs = epochs, validation_data = (X_test_, y_test[:, 3]))\n",
        "  model_jp.evaluate(X_test_,np.asarray(y_test[:, 3]))\n",
        "  \n",
        "  if save_model == True: \n",
        "    p = [path, \"J_P_model\"]\n",
        "    p = \"\".join(p)\n",
        "    model_jp.save(p)\n",
        "\n",
        "  return model_ie, model_ns, model_ft, model_jp\n",
        "\n",
        "model_ie, model_ns, model_ft, model_jp = train_MB_Personality(list_posts, list_personality,path = None, epochs = 15, random_state = 3, save_model = False)"
      ],
      "execution_count": null,
      "outputs": []
    },
    {
      "cell_type": "markdown",
      "metadata": {
        "id": "liH3UXTd0gul"
      },
      "source": [
        "**Evaluation loss and accuracy values:**\n",
        "\n",
        "1.   Introversion (I) / Extroversion (E)    **L = 1.0261; Acc = 0.7833**  \n",
        "2.   Intuition (N) – Sensing (S)            **L = 0.6150; Acc = 0.8494**\n",
        "3.   Feeling (F) - Thinking (T)             **L = 0.9102; Acc = 0.7630**\n",
        "4.   Judging (J) – Perceiving (P)           **L = 1.2936; Acc = 0.6362**"
      ]
    },
    {
      "cell_type": "markdown",
      "metadata": {
        "id": "I74z4jK70saE"
      },
      "source": [
        "**Pay attention to the random state.**"
      ]
    },
    {
      "cell_type": "code",
      "metadata": {
        "id": "kfVLJ3ln0flw"
      },
      "source": [
        "X_train, X_test, y_train, y_test = train_test_split(list_posts,list_personality,shuffle=True,test_size=0.3, random_state = 3)\n",
        "\n",
        "cv = CountVectorizer(max_features = 10000, ngram_range = (1,2))\n",
        "cv.fit(X_train)"
      ],
      "execution_count": null,
      "outputs": []
    },
    {
      "cell_type": "code",
      "metadata": {
        "id": "-isrMEgd0viu"
      },
      "source": [
        "NR = 2\n",
        "test_tweet = list_posts[NR]\n",
        "test_label = list_personality[NR]\n",
        "\n",
        "print(test_tweet)\n",
        "print(test_label)\n",
        "\n",
        "\n",
        "prep_test_text = cv.transform([test_tweet])"
      ],
      "execution_count": null,
      "outputs": []
    },
    {
      "cell_type": "code",
      "metadata": {
        "id": "tG9a4aT30xmL"
      },
      "source": [
        "def predictPersonality(prepared_text, model_ie = model_ie, model_ns = model_ns, model_ft = model_ft, model_jp = model_jp):\n",
        "  p_ie = model_ie.predict(prepared_text)\n",
        "  p_ns = model_ns.predict(prepared_text)\n",
        "  p_ft = model_ft.predict(prepared_text)\n",
        "  p_jp = model_jp.predict(prepared_text)\n",
        "  \n",
        "  predicted = [round(p_ie[0][0]),  round(p_ns[0][0]), round(p_ft[0][0]), round(p_jp[0][0])]\n",
        "\n",
        "  return predicted\n",
        "\n",
        "predicted = predictPersonality(prep_test_text)\n",
        "print(f\"The predicted personality type: {translate_back(predicted)}\")\n",
        "print(f\"The original personality type: {dat.type[NR]}\")"
      ],
      "execution_count": null,
      "outputs": []
    },
    {
      "cell_type": "markdown",
      "metadata": {
        "id": "3HWDz7aW04LU"
      },
      "source": [
        "**Final predictions and accuracy calculation**"
      ]
    },
    {
      "cell_type": "code",
      "metadata": {
        "id": "Y8mftTdg00H3"
      },
      "source": [
        "x_test_final = cv.transform(X_test)\n",
        "y_hat = []\n",
        "for txt in x_test_final:\n",
        "  y_hat.append(predictPersonality(txt))\n",
        "\n",
        "accuracy = accuracy_score(y_test, y_hat)\n",
        "print('Accuracy: %.2f' % (accuracy*100))"
      ],
      "execution_count": null,
      "outputs": []
    },
    {
      "cell_type": "markdown",
      "metadata": {
        "id": "JHNLIeRJMBHF"
      },
      "source": [
        "Accuracy: 32.69"
      ]
    },
    {
      "cell_type": "markdown",
      "metadata": {
        "id": "m2w-H010MZ2m"
      },
      "source": [
        "### Summary of Neural Network Approach\n",
        "\n",
        "1. We obtained the largest accuracy values (0.6285 and 0.6135) with the Method 3.1 and 3.2. We note that these two methods differ in the text cleaning function.\n",
        "\n",
        "2. Among the binary classifiers, Intuition-Sensing achieved the highest accuracy (0.8494)."
      ]
    },
    {
      "cell_type": "markdown",
      "metadata": {
        "id": "1AjSFmOjZ1kd"
      },
      "source": [
        "## Machine Learning Approach"
      ]
    },
    {
      "cell_type": "code",
      "metadata": {
        "id": "r3kKi1gNZ7_M"
      },
      "source": [
        "# create tfidf representation of the data\n",
        "txts = [\" \".join(ls) for ls in clean_text]\n",
        "tfidf = TfidfVectorizer()\n",
        "tfidf.fit(txts)\n",
        "res = tfidf.transform(txts)"
      ],
      "execution_count": null,
      "outputs": []
    },
    {
      "cell_type": "code",
      "metadata": {
        "id": "D2zr1leUbTBt"
      },
      "source": [
        "# split the data\n",
        "X_train, X_test, y_train, y_test = train_test_split(res, labels, test_size=0.3)"
      ],
      "execution_count": null,
      "outputs": []
    },
    {
      "cell_type": "code",
      "metadata": {
        "id": "ulc1MNWjbe5p"
      },
      "source": [
        "# search for optimal parameters of a model type for every\n",
        "# classification task\n",
        "def get_best_model_combination(model, X, y, params):\n",
        "  models = [None] * 4\n",
        "  for i in range(4):\n",
        "    print(\"Starting model {}\".format(i+1))\n",
        "\n",
        "    md = model()\n",
        "    cv = RandomizedSearchCV(md, params, n_iter=15, scoring=make_scorer(f1_score), verbose=5, n_jobs=4, cv=3)\n",
        "    cv.fit(X, y[:, i])\n",
        "\n",
        "    print(\"Best score: {}\".format(cv.best_score_))\n",
        "\n",
        "    md.set_params(**cv.best_params_)\n",
        "    models[i] = md\n",
        "\n",
        "  return models"
      ],
      "execution_count": null,
      "outputs": []
    },
    {
      "cell_type": "code",
      "metadata": {
        "id": "WNuwePM1bwIj"
      },
      "source": [
        "xgb_possible_params = {\n",
        "    \"eta\": [0.2, 0.3, 0.4],\n",
        "    \"max-depth\": [5, 6],\n",
        "    \"subsample\": [0.9, 1]\n",
        "}\n",
        "\n",
        "xgb_models = get_best_model_combination(XGBClassifier, X_train, y_train, xgb_possible_params)"
      ],
      "execution_count": null,
      "outputs": []
    },
    {
      "cell_type": "code",
      "metadata": {
        "id": "lbCVhe1vb8CM"
      },
      "source": [
        "random_forest_params = {\n",
        "    \"n_estimators\": [100, 200, 300],\n",
        "    \"max_depth\": [None, 3, 6, 9],\n",
        "    \"class_weight\": [\"balanced\"],\n",
        "    \"min_samples_split\": [2, 3]\n",
        "}\n",
        "\n",
        "rf_models = get_best_model_combination(RandomForestClassifier, X_train, y_train, random_forest_params)"
      ],
      "execution_count": null,
      "outputs": []
    },
    {
      "cell_type": "code",
      "metadata": {
        "id": "AapIPrkEcab9"
      },
      "source": [
        "# train and save models to pickle files\n",
        "def save_models(models, model_names, X, y):\n",
        "  for i, model in enumerate(models):\n",
        "    model.fit(X, y[:, i])\n",
        "    pickle.dump(model, open(\"model_{}_{}.pickle.dat\".format(model_names, i+1), \"wb\"))"
      ],
      "execution_count": null,
      "outputs": []
    },
    {
      "cell_type": "code",
      "metadata": {
        "id": "MKEl7Wsncr6L"
      },
      "source": [
        "save_models(xgb_models, \"xgb\", X_train, y_train)"
      ],
      "execution_count": null,
      "outputs": []
    },
    {
      "cell_type": "code",
      "metadata": {
        "id": "VEaFPPr9c1ON"
      },
      "source": [
        "save_models(rf_models, \"rf\", X_train, y_train)"
      ],
      "execution_count": null,
      "outputs": []
    },
    {
      "cell_type": "code",
      "metadata": {
        "id": "6DlM7PSodJw7"
      },
      "source": [
        "# load models from pickle files\n",
        "def load_models(model_name, path):\n",
        "  models_ = []\n",
        "  for i in range(4):\n",
        "    model = pickle.load(open(path + \"model_{}_{}.pickle.dat\".format(model_name, i+1), \"rb\"))\n",
        "    models_.append(model)\n",
        "  return models_"
      ],
      "execution_count": null,
      "outputs": []
    },
    {
      "cell_type": "code",
      "metadata": {
        "id": "OYwHNlr4dcrT"
      },
      "source": [
        "# validate models on the test dataset\n",
        "def validate(models, X, y):\n",
        "  for i, model in enumerate(models):\n",
        "    y_pred = model.predict(X)\n",
        "    print(\"{}. predictor f1 score: {}\".format((i+1), f1_score(y[:, i], y_pred)))"
      ],
      "execution_count": null,
      "outputs": []
    },
    {
      "cell_type": "code",
      "metadata": {
        "colab": {
          "base_uri": "https://localhost:8080/"
        },
        "id": "DF-2zLn95M4q",
        "outputId": "baaf6a93-74dc-4377-f8de-d29b05141be8"
      },
      "source": [
        "models_ = load_models(\"rf\", \"./\")\n",
        "validate(models_, X_test, y_test)"
      ],
      "execution_count": null,
      "outputs": [
        {
          "output_type": "stream",
          "text": [
            "1. predictor f1 score: 0.873891412502704\n",
            "2. predictor f1 score: 0.9261246388774246\n",
            "3. predictor f1 score: 0.7659176029962547\n",
            "4. predictor f1 score: 0.7454455933037912\n"
          ],
          "name": "stdout"
        }
      ]
    },
    {
      "cell_type": "code",
      "metadata": {
        "colab": {
          "base_uri": "https://localhost:8080/"
        },
        "id": "a4Z3pOKbJrH2",
        "outputId": "1a299e0e-aab1-4e59-b4f0-3221517ce590"
      },
      "source": [
        "models_ = load_models(\"xgb\", \"./\")\n",
        "validate(models_, X_test, y_test)"
      ],
      "execution_count": null,
      "outputs": [
        {
          "output_type": "stream",
          "text": [
            "1. predictor f1 score: 0.8631161971830986\n",
            "2. predictor f1 score: 0.9338250358533087\n",
            "3. predictor f1 score: 0.7657625924621346\n",
            "4. predictor f1 score: 0.7464534433840598\n"
          ],
          "name": "stdout"
        }
      ]
    },
    {
      "cell_type": "code",
      "metadata": {
        "id": "4uor_hHypH3H"
      },
      "source": [
        "# predict label for a single instance\n",
        "def predict(models, X):\n",
        "  predictions = np.array([0] * 4)\n",
        "  for i in range(len(models)):\n",
        "    predictions[i] = models[i].predict(X)\n",
        "  return predictions"
      ],
      "execution_count": null,
      "outputs": []
    },
    {
      "cell_type": "code",
      "metadata": {
        "id": "27iNFOlap2AF"
      },
      "source": [
        "# convert label from binary to text\n",
        "def label_decode(label):\n",
        "  lab = \"\"\n",
        "  decode_dict = {0: [\"E\", \"I\"], 1: [\"S\", \"N\"], 2: [\"T\", \"F\"], 3: [\"J\", \"P\"]}\n",
        "\n",
        "  for i in range(len(label)):\n",
        "    lab += decode_dict[i][label[i]]\n",
        "\n",
        "  return lab"
      ],
      "execution_count": null,
      "outputs": []
    },
    {
      "cell_type": "markdown",
      "metadata": {
        "id": "FP9DBYWseATS"
      },
      "source": [
        "### Feature importances"
      ]
    },
    {
      "cell_type": "markdown",
      "metadata": {
        "id": "bLg97dOaeJfK"
      },
      "source": [
        "#### Extraversion (E) – Introversion (I) "
      ]
    },
    {
      "cell_type": "code",
      "metadata": {
        "id": "WlteSqcy-6dm"
      },
      "source": [
        "importances = models_[0].feature_importances_\n",
        "imp_feat_idxs = np.argsort(importances)[-20:][::-1]\n",
        "words = []\n",
        "\n",
        "for idx in imp_feat_idxs:\n",
        "  for key in tfidf.vocabulary_.keys():\n",
        "    if tfidf.vocabulary_[key] == idx:\n",
        "      words.append(key)"
      ],
      "execution_count": null,
      "outputs": []
    },
    {
      "cell_type": "code",
      "metadata": {
        "colab": {
          "base_uri": "https://localhost:8080/"
        },
        "id": "PBIssN8SBJZe",
        "outputId": "27e5c330-6258-4585-d9af-06952256f515"
      },
      "source": [
        "words"
      ],
      "execution_count": null,
      "outputs": [
        {
          "output_type": "execute_result",
          "data": {
            "text/plain": [
              "['guys',\n",
              " 'lol',\n",
              " 'you',\n",
              " 'fun',\n",
              " 'get',\n",
              " 'super',\n",
              " 'world',\n",
              " 'love',\n",
              " 'like',\n",
              " 'one',\n",
              " 'the',\n",
              " 'human',\n",
              " 'awesome',\n",
              " 'friends',\n",
              " 'definitely',\n",
              " 'feel',\n",
              " 'know',\n",
              " 'mind',\n",
              " 'well',\n",
              " 'family']"
            ]
          },
          "metadata": {
            "tags": []
          },
          "execution_count": 73
        }
      ]
    },
    {
      "cell_type": "markdown",
      "metadata": {
        "id": "nRLUtuFSeWcK"
      },
      "source": [
        "#### Sensing (S) – Intuition (N) "
      ]
    },
    {
      "cell_type": "code",
      "metadata": {
        "colab": {
          "base_uri": "https://localhost:8080/"
        },
        "id": "S8jPfdvwDPvr",
        "outputId": "c954544b-921b-48e2-f0eb-6f9fe756eeaf"
      },
      "source": [
        "importances = models_[1].feature_importances_\n",
        "imp_feat_idxs = np.argsort(importances)[-20:][::-1]\n",
        "words = []\n",
        "\n",
        "for idx in imp_feat_idxs:\n",
        "  for key in tfidf.vocabulary_.keys():\n",
        "    if tfidf.vocabulary_[key] == idx:\n",
        "      words.append(key)\n",
        "\n",
        "words"
      ],
      "execution_count": null,
      "outputs": [
        {
          "output_type": "execute_result",
          "data": {
            "text/plain": [
              "['think',\n",
              " 'world',\n",
              " 'feel',\n",
              " 'type',\n",
              " 'human',\n",
              " 'one',\n",
              " 'people',\n",
              " 'pretty',\n",
              " 'the',\n",
              " 'get',\n",
              " 'car',\n",
              " 'idea',\n",
              " 'always',\n",
              " 'yes',\n",
              " 'love',\n",
              " 'way',\n",
              " 'know',\n",
              " 'cool',\n",
              " 'done',\n",
              " 'something']"
            ]
          },
          "metadata": {
            "tags": []
          },
          "execution_count": 74
        }
      ]
    },
    {
      "cell_type": "markdown",
      "metadata": {
        "id": "BLwftntueg1M"
      },
      "source": [
        "#### Thinking (T) – Feeling (F) "
      ]
    },
    {
      "cell_type": "code",
      "metadata": {
        "colab": {
          "base_uri": "https://localhost:8080/"
        },
        "id": "-xjWZeJMDZi0",
        "outputId": "01d64455-1d80-434a-e48d-7e0db9e8b56f"
      },
      "source": [
        "importances = models_[2].feature_importances_\n",
        "imp_feat_idxs = np.argsort(importances)[-20:][::-1]\n",
        "words = []\n",
        "\n",
        "for idx in imp_feat_idxs:\n",
        "  for key in tfidf.vocabulary_.keys():\n",
        "    if tfidf.vocabulary_[key] == idx:\n",
        "      words.append(key)\n",
        "\n",
        "words"
      ],
      "execution_count": null,
      "outputs": [
        {
          "output_type": "execute_result",
          "data": {
            "text/plain": [
              "['feel',\n",
              " 'love',\n",
              " 'really',\n",
              " 'feeling',\n",
              " 'beautiful',\n",
              " 'thank',\n",
              " 'think',\n",
              " 'felt',\n",
              " 'much',\n",
              " 'sometimes',\n",
              " 'heart',\n",
              " 'happy',\n",
              " 'life',\n",
              " 'know',\n",
              " 'lot',\n",
              " 'like',\n",
              " 'little',\n",
              " 'relate',\n",
              " 'use',\n",
              " 'glad']"
            ]
          },
          "metadata": {
            "tags": []
          },
          "execution_count": 75
        }
      ]
    },
    {
      "cell_type": "markdown",
      "metadata": {
        "id": "XstUyT7MetWT"
      },
      "source": [
        "#### Judging (J) – Perceiving (P)"
      ]
    },
    {
      "cell_type": "code",
      "metadata": {
        "colab": {
          "base_uri": "https://localhost:8080/"
        },
        "id": "OGr0Il0mD4Ur",
        "outputId": "3c804475-cf7b-4566-b7b4-83d5fd55f561"
      },
      "source": [
        "importances = models_[3].feature_importances_\n",
        "imp_feat_idxs = np.argsort(importances)[-20:][::-1]\n",
        "words = []\n",
        "\n",
        "for idx in imp_feat_idxs:\n",
        "  for key in tfidf.vocabulary_.keys():\n",
        "    if tfidf.vocabulary_[key] == idx:\n",
        "      words.append(key)\n",
        "\n",
        "words"
      ],
      "execution_count": null,
      "outputs": [
        {
          "output_type": "execute_result",
          "data": {
            "text/plain": [
              "['fun',\n",
              " 'music',\n",
              " 'love',\n",
              " 'really',\n",
              " 'like',\n",
              " 'pretty',\n",
              " 'yeah',\n",
              " 'the',\n",
              " 'someone',\n",
              " 'say',\n",
              " 'others',\n",
              " 'thing',\n",
              " 'well',\n",
              " 'person',\n",
              " 'think',\n",
              " 'people',\n",
              " 'type',\n",
              " 'much',\n",
              " 'see',\n",
              " 'one']"
            ]
          },
          "metadata": {
            "tags": []
          },
          "execution_count": 76
        }
      ]
    },
    {
      "cell_type": "markdown",
      "metadata": {
        "id": "DutSoiVYe7nS"
      },
      "source": [
        "### Twitter test"
      ]
    },
    {
      "cell_type": "code",
      "metadata": {
        "id": "dJ5k8cb6EJdA"
      },
      "source": [
        "twitter_api = twitter.Api(consumer_key='',\n",
        "                          consumer_secret='',\n",
        "                          access_token_key='',\n",
        "                          access_token_secret='')"
      ],
      "execution_count": null,
      "outputs": []
    },
    {
      "cell_type": "code",
      "metadata": {
        "id": "mVwdku4Eu5Uj"
      },
      "source": [
        "def predict_twitter_user(twitter_api, user_id, models, vectorizer):\n",
        "  # get last 50 posts from a user\n",
        "  for i in range(10):\n",
        "    tweets = twitter_api.GetUserTimeline(count=(i + 1) * 50, user_id=user_id, include_rts=False, exclude_replies=True)\n",
        "    if len(tweets) >= 50:\n",
        "      break\n",
        "\n",
        "  # prepare text\n",
        "  tweet_text = [t.text for t in tweets[:50]]\n",
        "  tweet_text = \" \".join(tweet_text)\n",
        "  clean_tweet = \" \".join(cleaner(tweet_text))\n",
        "  tw_res = vectorizer.transform([clean_tweet])\n",
        "\n",
        "  # predict and decode label\n",
        "  return label_decode(predict(models, tw_res))"
      ],
      "execution_count": null,
      "outputs": []
    },
    {
      "cell_type": "code",
      "metadata": {
        "colab": {
          "base_uri": "https://localhost:8080/",
          "height": 1000
        },
        "id": "nLCXs4CogyXk",
        "outputId": "72279f46-b7e2-4810-e273-6aa202ffd8b3"
      },
      "source": [
        "ttest = pd.read_csv(\"twitter_test.csv\")\n",
        "ttest"
      ],
      "execution_count": null,
      "outputs": [
        {
          "output_type": "execute_result",
          "data": {
            "text/html": [
              "<div>\n",
              "<style scoped>\n",
              "    .dataframe tbody tr th:only-of-type {\n",
              "        vertical-align: middle;\n",
              "    }\n",
              "\n",
              "    .dataframe tbody tr th {\n",
              "        vertical-align: top;\n",
              "    }\n",
              "\n",
              "    .dataframe thead th {\n",
              "        text-align: right;\n",
              "    }\n",
              "</style>\n",
              "<table border=\"1\" class=\"dataframe\">\n",
              "  <thead>\n",
              "    <tr style=\"text-align: right;\">\n",
              "      <th></th>\n",
              "      <th>user_id</th>\n",
              "      <th>type</th>\n",
              "    </tr>\n",
              "  </thead>\n",
              "  <tbody>\n",
              "    <tr>\n",
              "      <th>0</th>\n",
              "      <td>2969193063</td>\n",
              "      <td>intp</td>\n",
              "    </tr>\n",
              "    <tr>\n",
              "      <th>1</th>\n",
              "      <td>1117191121220898816</td>\n",
              "      <td>intp</td>\n",
              "    </tr>\n",
              "    <tr>\n",
              "      <th>2</th>\n",
              "      <td>3298638792</td>\n",
              "      <td>intp</td>\n",
              "    </tr>\n",
              "    <tr>\n",
              "      <th>3</th>\n",
              "      <td>35391321</td>\n",
              "      <td>intp</td>\n",
              "    </tr>\n",
              "    <tr>\n",
              "      <th>4</th>\n",
              "      <td>3234730002</td>\n",
              "      <td>intp</td>\n",
              "    </tr>\n",
              "    <tr>\n",
              "      <th>5</th>\n",
              "      <td>788361894130290688</td>\n",
              "      <td>intp</td>\n",
              "    </tr>\n",
              "    <tr>\n",
              "      <th>6</th>\n",
              "      <td>1260747791409823746</td>\n",
              "      <td>intp</td>\n",
              "    </tr>\n",
              "    <tr>\n",
              "      <th>7</th>\n",
              "      <td>3365416901</td>\n",
              "      <td>intp</td>\n",
              "    </tr>\n",
              "    <tr>\n",
              "      <th>8</th>\n",
              "      <td>1007825198475669504</td>\n",
              "      <td>intp</td>\n",
              "    </tr>\n",
              "    <tr>\n",
              "      <th>9</th>\n",
              "      <td>816466526140305408</td>\n",
              "      <td>intp</td>\n",
              "    </tr>\n",
              "    <tr>\n",
              "      <th>10</th>\n",
              "      <td>1339252277983539201</td>\n",
              "      <td>intp</td>\n",
              "    </tr>\n",
              "    <tr>\n",
              "      <th>11</th>\n",
              "      <td>1278257213346283520</td>\n",
              "      <td>intp</td>\n",
              "    </tr>\n",
              "    <tr>\n",
              "      <th>12</th>\n",
              "      <td>1370866832937263110</td>\n",
              "      <td>intp</td>\n",
              "    </tr>\n",
              "    <tr>\n",
              "      <th>13</th>\n",
              "      <td>1239003094609993728</td>\n",
              "      <td>intp</td>\n",
              "    </tr>\n",
              "    <tr>\n",
              "      <th>14</th>\n",
              "      <td>752357495331520512</td>\n",
              "      <td>intp</td>\n",
              "    </tr>\n",
              "    <tr>\n",
              "      <th>15</th>\n",
              "      <td>821259149501677569</td>\n",
              "      <td>intp</td>\n",
              "    </tr>\n",
              "    <tr>\n",
              "      <th>16</th>\n",
              "      <td>1157429988162965505</td>\n",
              "      <td>intp</td>\n",
              "    </tr>\n",
              "    <tr>\n",
              "      <th>17</th>\n",
              "      <td>755089828677640193</td>\n",
              "      <td>intp</td>\n",
              "    </tr>\n",
              "    <tr>\n",
              "      <th>18</th>\n",
              "      <td>1207498942621126656</td>\n",
              "      <td>intp</td>\n",
              "    </tr>\n",
              "    <tr>\n",
              "      <th>19</th>\n",
              "      <td>1278211267379884032</td>\n",
              "      <td>intp</td>\n",
              "    </tr>\n",
              "    <tr>\n",
              "      <th>20</th>\n",
              "      <td>1277446236493107202</td>\n",
              "      <td>intp</td>\n",
              "    </tr>\n",
              "    <tr>\n",
              "      <th>21</th>\n",
              "      <td>1084694702979313664</td>\n",
              "      <td>intp</td>\n",
              "    </tr>\n",
              "    <tr>\n",
              "      <th>22</th>\n",
              "      <td>2246313481</td>\n",
              "      <td>intp</td>\n",
              "    </tr>\n",
              "    <tr>\n",
              "      <th>23</th>\n",
              "      <td>1342955443216384001</td>\n",
              "      <td>intp</td>\n",
              "    </tr>\n",
              "    <tr>\n",
              "      <th>24</th>\n",
              "      <td>1344085817698861056</td>\n",
              "      <td>intp</td>\n",
              "    </tr>\n",
              "    <tr>\n",
              "      <th>25</th>\n",
              "      <td>959655641731104769</td>\n",
              "      <td>intp</td>\n",
              "    </tr>\n",
              "    <tr>\n",
              "      <th>26</th>\n",
              "      <td>18997396</td>\n",
              "      <td>intp</td>\n",
              "    </tr>\n",
              "    <tr>\n",
              "      <th>27</th>\n",
              "      <td>1226642222935924737</td>\n",
              "      <td>intp</td>\n",
              "    </tr>\n",
              "    <tr>\n",
              "      <th>28</th>\n",
              "      <td>1205944114715545600</td>\n",
              "      <td>isfj</td>\n",
              "    </tr>\n",
              "    <tr>\n",
              "      <th>29</th>\n",
              "      <td>2986447321</td>\n",
              "      <td>isfj</td>\n",
              "    </tr>\n",
              "    <tr>\n",
              "      <th>30</th>\n",
              "      <td>1293533658243125248</td>\n",
              "      <td>isfj</td>\n",
              "    </tr>\n",
              "    <tr>\n",
              "      <th>31</th>\n",
              "      <td>2575236875</td>\n",
              "      <td>isfp</td>\n",
              "    </tr>\n",
              "    <tr>\n",
              "      <th>32</th>\n",
              "      <td>1358588456126005256</td>\n",
              "      <td>infp</td>\n",
              "    </tr>\n",
              "    <tr>\n",
              "      <th>33</th>\n",
              "      <td>1212418245333925888</td>\n",
              "      <td>infp</td>\n",
              "    </tr>\n",
              "    <tr>\n",
              "      <th>34</th>\n",
              "      <td>2929007637</td>\n",
              "      <td>infj</td>\n",
              "    </tr>\n",
              "    <tr>\n",
              "      <th>35</th>\n",
              "      <td>53002780</td>\n",
              "      <td>infj</td>\n",
              "    </tr>\n",
              "    <tr>\n",
              "      <th>36</th>\n",
              "      <td>1008524084215312384</td>\n",
              "      <td>infj</td>\n",
              "    </tr>\n",
              "    <tr>\n",
              "      <th>37</th>\n",
              "      <td>1301346537197404161</td>\n",
              "      <td>intj</td>\n",
              "    </tr>\n",
              "    <tr>\n",
              "      <th>38</th>\n",
              "      <td>35293768</td>\n",
              "      <td>entp</td>\n",
              "    </tr>\n",
              "    <tr>\n",
              "      <th>39</th>\n",
              "      <td>32218327</td>\n",
              "      <td>entp</td>\n",
              "    </tr>\n",
              "    <tr>\n",
              "      <th>40</th>\n",
              "      <td>1016060366885879811</td>\n",
              "      <td>enfj</td>\n",
              "    </tr>\n",
              "    <tr>\n",
              "      <th>41</th>\n",
              "      <td>132773145</td>\n",
              "      <td>enfp</td>\n",
              "    </tr>\n",
              "    <tr>\n",
              "      <th>42</th>\n",
              "      <td>1108111165509566465</td>\n",
              "      <td>enfp</td>\n",
              "    </tr>\n",
              "  </tbody>\n",
              "</table>\n",
              "</div>"
            ],
            "text/plain": [
              "                user_id   type\n",
              "0            2969193063   intp\n",
              "1   1117191121220898816   intp\n",
              "2            3298638792   intp\n",
              "3              35391321   intp\n",
              "4            3234730002   intp\n",
              "5    788361894130290688   intp\n",
              "6   1260747791409823746   intp\n",
              "7            3365416901   intp\n",
              "8   1007825198475669504   intp\n",
              "9    816466526140305408   intp\n",
              "10  1339252277983539201   intp\n",
              "11  1278257213346283520   intp\n",
              "12  1370866832937263110   intp\n",
              "13  1239003094609993728   intp\n",
              "14   752357495331520512   intp\n",
              "15   821259149501677569   intp\n",
              "16  1157429988162965505   intp\n",
              "17   755089828677640193   intp\n",
              "18  1207498942621126656   intp\n",
              "19  1278211267379884032   intp\n",
              "20  1277446236493107202   intp\n",
              "21  1084694702979313664   intp\n",
              "22           2246313481   intp\n",
              "23  1342955443216384001   intp\n",
              "24  1344085817698861056   intp\n",
              "25   959655641731104769   intp\n",
              "26             18997396   intp\n",
              "27  1226642222935924737   intp\n",
              "28  1205944114715545600   isfj\n",
              "29           2986447321   isfj\n",
              "30  1293533658243125248   isfj\n",
              "31           2575236875   isfp\n",
              "32  1358588456126005256   infp\n",
              "33  1212418245333925888   infp\n",
              "34           2929007637   infj\n",
              "35             53002780   infj\n",
              "36  1008524084215312384   infj\n",
              "37  1301346537197404161   intj\n",
              "38             35293768   entp\n",
              "39             32218327   entp\n",
              "40  1016060366885879811   enfj\n",
              "41            132773145   enfp\n",
              "42  1108111165509566465   enfp"
            ]
          },
          "metadata": {
            "tags": []
          },
          "execution_count": 47
        }
      ]
    },
    {
      "cell_type": "code",
      "metadata": {
        "colab": {
          "base_uri": "https://localhost:8080/",
          "height": 1000
        },
        "id": "IFGPhkRCjA7a",
        "outputId": "cb22a3f2-ed0d-4fe8-be03-2af7d609d130"
      },
      "source": [
        "ttest[\"predicted\"] = \"\"\n",
        "for row in ttest.iterrows():\n",
        "  label = predict_twitter_user(twitter_api, row[1][0], models_, tfidf)\n",
        "  ttest.loc[row[0], \"predicted\"] = label\n",
        "\n",
        "ttest"
      ],
      "execution_count": null,
      "outputs": [
        {
          "output_type": "execute_result",
          "data": {
            "text/html": [
              "<div>\n",
              "<style scoped>\n",
              "    .dataframe tbody tr th:only-of-type {\n",
              "        vertical-align: middle;\n",
              "    }\n",
              "\n",
              "    .dataframe tbody tr th {\n",
              "        vertical-align: top;\n",
              "    }\n",
              "\n",
              "    .dataframe thead th {\n",
              "        text-align: right;\n",
              "    }\n",
              "</style>\n",
              "<table border=\"1\" class=\"dataframe\">\n",
              "  <thead>\n",
              "    <tr style=\"text-align: right;\">\n",
              "      <th></th>\n",
              "      <th>user_id</th>\n",
              "      <th>type</th>\n",
              "      <th>predicted</th>\n",
              "    </tr>\n",
              "  </thead>\n",
              "  <tbody>\n",
              "    <tr>\n",
              "      <th>0</th>\n",
              "      <td>2969193063</td>\n",
              "      <td>intp</td>\n",
              "      <td>INFP</td>\n",
              "    </tr>\n",
              "    <tr>\n",
              "      <th>1</th>\n",
              "      <td>1117191121220898816</td>\n",
              "      <td>intp</td>\n",
              "      <td>INTP</td>\n",
              "    </tr>\n",
              "    <tr>\n",
              "      <th>2</th>\n",
              "      <td>3298638792</td>\n",
              "      <td>intp</td>\n",
              "      <td>INTP</td>\n",
              "    </tr>\n",
              "    <tr>\n",
              "      <th>3</th>\n",
              "      <td>35391321</td>\n",
              "      <td>intp</td>\n",
              "      <td>INFP</td>\n",
              "    </tr>\n",
              "    <tr>\n",
              "      <th>4</th>\n",
              "      <td>3234730002</td>\n",
              "      <td>intp</td>\n",
              "      <td>ISFP</td>\n",
              "    </tr>\n",
              "    <tr>\n",
              "      <th>5</th>\n",
              "      <td>788361894130290688</td>\n",
              "      <td>intp</td>\n",
              "      <td>INFP</td>\n",
              "    </tr>\n",
              "    <tr>\n",
              "      <th>6</th>\n",
              "      <td>1260747791409823746</td>\n",
              "      <td>intp</td>\n",
              "      <td>INTP</td>\n",
              "    </tr>\n",
              "    <tr>\n",
              "      <th>7</th>\n",
              "      <td>3365416901</td>\n",
              "      <td>intp</td>\n",
              "      <td>INFP</td>\n",
              "    </tr>\n",
              "    <tr>\n",
              "      <th>8</th>\n",
              "      <td>1007825198475669504</td>\n",
              "      <td>intp</td>\n",
              "      <td>INFP</td>\n",
              "    </tr>\n",
              "    <tr>\n",
              "      <th>9</th>\n",
              "      <td>816466526140305408</td>\n",
              "      <td>intp</td>\n",
              "      <td>INTP</td>\n",
              "    </tr>\n",
              "    <tr>\n",
              "      <th>10</th>\n",
              "      <td>1339252277983539201</td>\n",
              "      <td>intp</td>\n",
              "      <td>ISFP</td>\n",
              "    </tr>\n",
              "    <tr>\n",
              "      <th>11</th>\n",
              "      <td>1278257213346283520</td>\n",
              "      <td>intp</td>\n",
              "      <td>INFP</td>\n",
              "    </tr>\n",
              "    <tr>\n",
              "      <th>12</th>\n",
              "      <td>1370866832937263110</td>\n",
              "      <td>intp</td>\n",
              "      <td>INFP</td>\n",
              "    </tr>\n",
              "    <tr>\n",
              "      <th>13</th>\n",
              "      <td>1239003094609993728</td>\n",
              "      <td>intp</td>\n",
              "      <td>INFP</td>\n",
              "    </tr>\n",
              "    <tr>\n",
              "      <th>14</th>\n",
              "      <td>752357495331520512</td>\n",
              "      <td>intp</td>\n",
              "      <td>INTP</td>\n",
              "    </tr>\n",
              "    <tr>\n",
              "      <th>15</th>\n",
              "      <td>821259149501677569</td>\n",
              "      <td>intp</td>\n",
              "      <td>INFP</td>\n",
              "    </tr>\n",
              "    <tr>\n",
              "      <th>16</th>\n",
              "      <td>1157429988162965505</td>\n",
              "      <td>intp</td>\n",
              "      <td>INFP</td>\n",
              "    </tr>\n",
              "    <tr>\n",
              "      <th>17</th>\n",
              "      <td>755089828677640193</td>\n",
              "      <td>intp</td>\n",
              "      <td>ISFP</td>\n",
              "    </tr>\n",
              "    <tr>\n",
              "      <th>18</th>\n",
              "      <td>1207498942621126656</td>\n",
              "      <td>intp</td>\n",
              "      <td>INFP</td>\n",
              "    </tr>\n",
              "    <tr>\n",
              "      <th>19</th>\n",
              "      <td>1278211267379884032</td>\n",
              "      <td>intp</td>\n",
              "      <td>INFP</td>\n",
              "    </tr>\n",
              "    <tr>\n",
              "      <th>20</th>\n",
              "      <td>1277446236493107202</td>\n",
              "      <td>intp</td>\n",
              "      <td>INTP</td>\n",
              "    </tr>\n",
              "    <tr>\n",
              "      <th>21</th>\n",
              "      <td>1084694702979313664</td>\n",
              "      <td>intp</td>\n",
              "      <td>INFP</td>\n",
              "    </tr>\n",
              "    <tr>\n",
              "      <th>22</th>\n",
              "      <td>2246313481</td>\n",
              "      <td>intp</td>\n",
              "      <td>INTP</td>\n",
              "    </tr>\n",
              "    <tr>\n",
              "      <th>23</th>\n",
              "      <td>1342955443216384001</td>\n",
              "      <td>intp</td>\n",
              "      <td>INFP</td>\n",
              "    </tr>\n",
              "    <tr>\n",
              "      <th>24</th>\n",
              "      <td>1344085817698861056</td>\n",
              "      <td>intp</td>\n",
              "      <td>ISFP</td>\n",
              "    </tr>\n",
              "    <tr>\n",
              "      <th>25</th>\n",
              "      <td>959655641731104769</td>\n",
              "      <td>intp</td>\n",
              "      <td>INTP</td>\n",
              "    </tr>\n",
              "    <tr>\n",
              "      <th>26</th>\n",
              "      <td>18997396</td>\n",
              "      <td>intp</td>\n",
              "      <td>ISTP</td>\n",
              "    </tr>\n",
              "    <tr>\n",
              "      <th>27</th>\n",
              "      <td>1226642222935924737</td>\n",
              "      <td>intp</td>\n",
              "      <td>ISFP</td>\n",
              "    </tr>\n",
              "    <tr>\n",
              "      <th>28</th>\n",
              "      <td>1205944114715545600</td>\n",
              "      <td>isfj</td>\n",
              "      <td>INFP</td>\n",
              "    </tr>\n",
              "    <tr>\n",
              "      <th>29</th>\n",
              "      <td>2986447321</td>\n",
              "      <td>isfj</td>\n",
              "      <td>INFP</td>\n",
              "    </tr>\n",
              "    <tr>\n",
              "      <th>30</th>\n",
              "      <td>1293533658243125248</td>\n",
              "      <td>isfj</td>\n",
              "      <td>INFP</td>\n",
              "    </tr>\n",
              "    <tr>\n",
              "      <th>31</th>\n",
              "      <td>2575236875</td>\n",
              "      <td>isfp</td>\n",
              "      <td>INFP</td>\n",
              "    </tr>\n",
              "    <tr>\n",
              "      <th>32</th>\n",
              "      <td>1358588456126005256</td>\n",
              "      <td>infp</td>\n",
              "      <td>INFP</td>\n",
              "    </tr>\n",
              "    <tr>\n",
              "      <th>33</th>\n",
              "      <td>1212418245333925888</td>\n",
              "      <td>infp</td>\n",
              "      <td>INFP</td>\n",
              "    </tr>\n",
              "    <tr>\n",
              "      <th>34</th>\n",
              "      <td>2929007637</td>\n",
              "      <td>infj</td>\n",
              "      <td>INFP</td>\n",
              "    </tr>\n",
              "    <tr>\n",
              "      <th>35</th>\n",
              "      <td>53002780</td>\n",
              "      <td>infj</td>\n",
              "      <td>INFP</td>\n",
              "    </tr>\n",
              "    <tr>\n",
              "      <th>36</th>\n",
              "      <td>1008524084215312384</td>\n",
              "      <td>infj</td>\n",
              "      <td>INTP</td>\n",
              "    </tr>\n",
              "    <tr>\n",
              "      <th>37</th>\n",
              "      <td>1301346537197404161</td>\n",
              "      <td>intj</td>\n",
              "      <td>INTP</td>\n",
              "    </tr>\n",
              "    <tr>\n",
              "      <th>38</th>\n",
              "      <td>35293768</td>\n",
              "      <td>entp</td>\n",
              "      <td>INTP</td>\n",
              "    </tr>\n",
              "    <tr>\n",
              "      <th>39</th>\n",
              "      <td>32218327</td>\n",
              "      <td>entp</td>\n",
              "      <td>INTP</td>\n",
              "    </tr>\n",
              "    <tr>\n",
              "      <th>40</th>\n",
              "      <td>1016060366885879811</td>\n",
              "      <td>enfj</td>\n",
              "      <td>INFP</td>\n",
              "    </tr>\n",
              "    <tr>\n",
              "      <th>41</th>\n",
              "      <td>132773145</td>\n",
              "      <td>enfp</td>\n",
              "      <td>INFP</td>\n",
              "    </tr>\n",
              "    <tr>\n",
              "      <th>42</th>\n",
              "      <td>1108111165509566465</td>\n",
              "      <td>enfp</td>\n",
              "      <td>INFP</td>\n",
              "    </tr>\n",
              "  </tbody>\n",
              "</table>\n",
              "</div>"
            ],
            "text/plain": [
              "                user_id   type predicted\n",
              "0            2969193063   intp      INFP\n",
              "1   1117191121220898816   intp      INTP\n",
              "2            3298638792   intp      INTP\n",
              "3              35391321   intp      INFP\n",
              "4            3234730002   intp      ISFP\n",
              "5    788361894130290688   intp      INFP\n",
              "6   1260747791409823746   intp      INTP\n",
              "7            3365416901   intp      INFP\n",
              "8   1007825198475669504   intp      INFP\n",
              "9    816466526140305408   intp      INTP\n",
              "10  1339252277983539201   intp      ISFP\n",
              "11  1278257213346283520   intp      INFP\n",
              "12  1370866832937263110   intp      INFP\n",
              "13  1239003094609993728   intp      INFP\n",
              "14   752357495331520512   intp      INTP\n",
              "15   821259149501677569   intp      INFP\n",
              "16  1157429988162965505   intp      INFP\n",
              "17   755089828677640193   intp      ISFP\n",
              "18  1207498942621126656   intp      INFP\n",
              "19  1278211267379884032   intp      INFP\n",
              "20  1277446236493107202   intp      INTP\n",
              "21  1084694702979313664   intp      INFP\n",
              "22           2246313481   intp      INTP\n",
              "23  1342955443216384001   intp      INFP\n",
              "24  1344085817698861056   intp      ISFP\n",
              "25   959655641731104769   intp      INTP\n",
              "26             18997396   intp      ISTP\n",
              "27  1226642222935924737   intp      ISFP\n",
              "28  1205944114715545600   isfj      INFP\n",
              "29           2986447321   isfj      INFP\n",
              "30  1293533658243125248   isfj      INFP\n",
              "31           2575236875   isfp      INFP\n",
              "32  1358588456126005256   infp      INFP\n",
              "33  1212418245333925888   infp      INFP\n",
              "34           2929007637   infj      INFP\n",
              "35             53002780   infj      INFP\n",
              "36  1008524084215312384   infj      INTP\n",
              "37  1301346537197404161   intj      INTP\n",
              "38             35293768   entp      INTP\n",
              "39             32218327   entp      INTP\n",
              "40  1016060366885879811   enfj      INFP\n",
              "41            132773145   enfp      INFP\n",
              "42  1108111165509566465   enfp      INFP"
            ]
          },
          "metadata": {
            "tags": []
          },
          "execution_count": 50
        }
      ]
    },
    {
      "cell_type": "code",
      "metadata": {
        "id": "2JLAO-k7fA8y"
      },
      "source": [
        ""
      ],
      "execution_count": null,
      "outputs": []
    },
    {
      "cell_type": "code",
      "metadata": {
        "id": "5E_QsS5AeIlq"
      },
      "source": [
        ""
      ],
      "execution_count": null,
      "outputs": []
    },
    {
      "cell_type": "code",
      "metadata": {
        "id": "d_orscKgdYfz"
      },
      "source": [
        ""
      ],
      "execution_count": null,
      "outputs": []
    }
  ]
}